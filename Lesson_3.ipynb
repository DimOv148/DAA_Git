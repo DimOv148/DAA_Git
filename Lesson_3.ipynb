{
 "cells": [
  {
   "cell_type": "markdown",
   "id": "c822afb6",
   "metadata": {},
   "source": [
    "### Урок 3. Классификация. Логистическая регрессия."
   ]
  },
  {
   "cell_type": "markdown",
   "id": "e98b39ea",
   "metadata": {},
   "source": [
    "#### 1. *Измените функцию calc_logloss так, чтобы нули по возможности не попадали в np.log."
   ]
  },
  {
   "cell_type": "markdown",
   "id": "ebc6c6a6",
   "metadata": {},
   "source": [
    "Как один из возможных вариантов можно предложиит заменять предсказанные нулевые значения, в которых логарифм будет не определен, на очень маленькое значение, мало отличное от 0, например 1-е17. "
   ]
  },
  {
   "cell_type": "code",
   "execution_count": 2,
   "id": "d2347ca5",
   "metadata": {},
   "outputs": [],
   "source": [
    "import numpy as np"
   ]
  },
  {
   "cell_type": "code",
   "execution_count": 17,
   "id": "11c8386a",
   "metadata": {},
   "outputs": [],
   "source": [
    "def calc_logloss(y, y_pred):\n",
    "    err = - np.mean(y * np.log(y_pred) + (1.0 - y) * np.log(1.0 - y_pred))\n",
    "    return err"
   ]
  },
  {
   "cell_type": "code",
   "execution_count": 9,
   "id": "d5329474",
   "metadata": {},
   "outputs": [],
   "source": [
    "def calc_logloss_1(y, y_pred):\n",
    "    y_pred = np.where(y_pred!=0, y_pred, 1e-17)\n",
    "    err = - np.mean(y * np.log(y_pred) + (1.0 - y) * np.log(1.0 - y_pred))\n",
    "    return err"
   ]
  },
  {
   "cell_type": "code",
   "execution_count": 11,
   "id": "825b84bd",
   "metadata": {},
   "outputs": [
    {
     "data": {
      "text/plain": [
       "0.164252033486018"
      ]
     },
     "execution_count": 11,
     "metadata": {},
     "output_type": "execute_result"
    }
   ],
   "source": [
    "# Пример применения\n",
    "y1 = np.array([1, 0])\n",
    "y_pred1 = np.array([0.8, 0.1])\n",
    "calc_logloss_1(y1, y_pred1)"
   ]
  },
  {
   "cell_type": "code",
   "execution_count": 13,
   "id": "a6e887f4",
   "metadata": {},
   "outputs": [
    {
     "data": {
      "text/plain": [
       "9.78849922918807"
      ]
     },
     "execution_count": 13,
     "metadata": {},
     "output_type": "execute_result"
    }
   ],
   "source": [
    "# Плохой пример применения\n",
    "y1 = np.array([1, 0, 1, 0])\n",
    "y_pred1 = np.array([0.99, 0, 0, 0])\n",
    "calc_logloss_1(y1, y_pred1)"
   ]
  },
  {
   "cell_type": "markdown",
   "id": "95457b76",
   "metadata": {},
   "source": [
    "Или, как еще вариант, в цикле проверять значения y и y_pred на равентсво y_pred = 0 и отбрасывать такие пары значений перед передачей их в функцию. "
   ]
  },
  {
   "cell_type": "markdown",
   "id": "b34f1c72",
   "metadata": {},
   "source": [
    "#### 2. Подберите аргументы функции eval_model для логистической регрессии таким образом, чтобы log loss был минимальным."
   ]
  },
  {
   "cell_type": "code",
   "execution_count": 3,
   "id": "13f879f9",
   "metadata": {},
   "outputs": [],
   "source": [
    "X = np.array([ [   1,    1,  500,    1],\n",
    "               [   1,    1,  700,    1],\n",
    "               [   1,    2,  750,    2],\n",
    "               [   1,    5,  600,    1],\n",
    "               [   1,    3, 1450,    2],\n",
    "               [   1,    0,  800,    1],\n",
    "               [   1,    5, 1500,    3],\n",
    "               [   1,   10, 2000,    3],\n",
    "               [   1,    1,  450,    1],\n",
    "               [   1,    2, 1000,    2]], dtype=np.float64)\n",
    "\n",
    "y = np.array([0, 0, 1, 0, 1, 0, 1, 0, 1, 1], dtype=np.float64)"
   ]
  },
  {
   "cell_type": "code",
   "execution_count": 4,
   "id": "5d441431",
   "metadata": {},
   "outputs": [
    {
     "data": {
      "text/plain": [
       "array([[1.00e+00, 1.00e+00, 5.00e+02, 1.00e+00],\n",
       "       [1.00e+00, 1.00e+00, 7.00e+02, 1.00e+00],\n",
       "       [1.00e+00, 2.00e+00, 7.50e+02, 2.00e+00],\n",
       "       [1.00e+00, 5.00e+00, 6.00e+02, 1.00e+00],\n",
       "       [1.00e+00, 3.00e+00, 1.45e+03, 2.00e+00],\n",
       "       [1.00e+00, 0.00e+00, 8.00e+02, 1.00e+00],\n",
       "       [1.00e+00, 5.00e+00, 1.50e+03, 3.00e+00],\n",
       "       [1.00e+00, 1.00e+01, 2.00e+03, 3.00e+00],\n",
       "       [1.00e+00, 1.00e+00, 4.50e+02, 1.00e+00],\n",
       "       [1.00e+00, 2.00e+00, 1.00e+03, 2.00e+00]])"
      ]
     },
     "execution_count": 4,
     "metadata": {},
     "output_type": "execute_result"
    }
   ],
   "source": [
    "X"
   ]
  },
  {
   "cell_type": "code",
   "execution_count": 5,
   "id": "2c87fa69",
   "metadata": {},
   "outputs": [
    {
     "data": {
      "text/plain": [
       "array([0., 0., 1., 0., 1., 0., 1., 0., 1., 1.])"
      ]
     },
     "execution_count": 5,
     "metadata": {},
     "output_type": "execute_result"
    }
   ],
   "source": [
    "y"
   ]
  },
  {
   "cell_type": "code",
   "execution_count": 6,
   "id": "506299ea",
   "metadata": {},
   "outputs": [],
   "source": [
    "def standard_scale(x):\n",
    "    res = (x - x.mean()) / x.std()\n",
    "    return res"
   ]
  },
  {
   "cell_type": "code",
   "execution_count": 7,
   "id": "2475557d",
   "metadata": {},
   "outputs": [],
   "source": [
    "X_st = X.copy()\n",
    "X_st[:, 2] = standard_scale(X[:, 2])"
   ]
  },
  {
   "cell_type": "code",
   "execution_count": 8,
   "id": "ef3b4a32",
   "metadata": {},
   "outputs": [
    {
     "data": {
      "text/plain": [
       "array([[ 1.        ,  1.        , -0.97958969,  1.        ],\n",
       "       [ 1.        ,  1.        , -0.56713087,  1.        ],\n",
       "       [ 1.        ,  2.        , -0.46401617,  2.        ],\n",
       "       [ 1.        ,  5.        , -0.77336028,  1.        ],\n",
       "       [ 1.        ,  3.        ,  0.97958969,  2.        ],\n",
       "       [ 1.        ,  0.        , -0.36090146,  1.        ],\n",
       "       [ 1.        ,  5.        ,  1.08270439,  3.        ],\n",
       "       [ 1.        , 10.        ,  2.11385144,  3.        ],\n",
       "       [ 1.        ,  1.        , -1.08270439,  1.        ],\n",
       "       [ 1.        ,  2.        ,  0.05155735,  2.        ]])"
      ]
     },
     "execution_count": 8,
     "metadata": {},
     "output_type": "execute_result"
    }
   ],
   "source": [
    "X_st"
   ]
  },
  {
   "cell_type": "code",
   "execution_count": 15,
   "id": "e988a8f1",
   "metadata": {},
   "outputs": [],
   "source": [
    "def sigmoid(z):\n",
    "    res = 1 / (1 + np.exp(-z))\n",
    "    return res"
   ]
  },
  {
   "cell_type": "code",
   "execution_count": 18,
   "id": "a0e31374",
   "metadata": {},
   "outputs": [
    {
     "name": "stdout",
     "output_type": "stream",
     "text": [
      "Лучшая ошибка 0.4610463395426619 с параметрами {'eta': 0.05, 'n_iter': 10000}\n"
     ]
    }
   ],
   "source": [
    "etas = [1e-1, 5e-2, 1e-2, 5e-3, 1e-3, 5e-4, 1e-4]\n",
    "n_iters = [250, 500, 800, 1000, 5000, 10000]\n",
    "np.random.seed(42)\n",
    "\n",
    "best_error = np.inf\n",
    "best_params = {}\n",
    "\n",
    "\n",
    "for eta in etas:\n",
    "    for n_iter in n_iters:\n",
    "        W = np.random.randn(X_st.shape[1])\n",
    "        n = X_st.shape[0]\n",
    "        curr_eta = eta\n",
    "        for i in range(n_iter):\n",
    "            z = np.dot(X_st, W)\n",
    "            y_pred = sigmoid(z)\n",
    "            err = calc_logloss(y, y_pred)\n",
    "            dQ = 1/n * X_st.T @ (y_pred - y)\n",
    "            W -= curr_eta * dQ\n",
    "\n",
    "            if i % 10 == 0:\n",
    "                curr_eta /= 1.1\n",
    "                                \n",
    "        if err < best_error:\n",
    "            best_error = err\n",
    "            best_params = {\n",
    "                'eta': eta,\n",
    "                'n_iter': n_iter\n",
    "            }\n",
    "print(f'Лучшая ошибка {best_error} с параметрами {best_params}')"
   ]
  },
  {
   "cell_type": "markdown",
   "id": "67d6564e",
   "metadata": {},
   "source": [
    "#### 3. Создайте функцию calc_pred_proba, возвращающую предсказанную вероятность класса 1 (на вход подаются W, который уже посчитан функцией eval_model и X, на выходе - массив y_pred_proba)."
   ]
  },
  {
   "cell_type": "code",
   "execution_count": 21,
   "id": "ae51bb53",
   "metadata": {},
   "outputs": [],
   "source": [
    "def eval_model(X_st, y, iterations, eta=1e-4):\n",
    "    np.random.seed(42)\n",
    "    W = np.random.randn(X_st.shape[1])\n",
    "    n = X.shape[0]\n",
    "    \n",
    "    for i in range(iterations):\n",
    "        z = np.dot(X_st, W)\n",
    "        y_pred = sigmoid(z)\n",
    "        err = calc_logloss(y, y_pred)\n",
    "        \n",
    "        dQ = 1/n * X_st.T @ (y_pred - y)\n",
    "        W -= eta * dQ\n",
    "#         if i % (iterations / 10) == 0:\n",
    "#             print(i, W, err)\n",
    "    return W"
   ]
  },
  {
   "cell_type": "code",
   "execution_count": 22,
   "id": "ba8f5c05",
   "metadata": {},
   "outputs": [],
   "source": [
    "def calc_pred_proba(X, W):\n",
    "    return sigmoid(np.dot(X, W))"
   ]
  },
  {
   "cell_type": "code",
   "execution_count": 23,
   "id": "1db3f48d",
   "metadata": {},
   "outputs": [
    {
     "data": {
      "text/plain": [
       "array([0.33411971, 0.22116833, 0.98222268, 0.00394414, 0.70685345,\n",
       "       0.40031129, 0.99338372, 0.10829936, 0.36649211, 0.96443976])"
      ]
     },
     "execution_count": 23,
     "metadata": {},
     "output_type": "execute_result"
    }
   ],
   "source": [
    "W = eval_model(X_st, y, iterations=10000, eta=0.05)\n",
    "p = calc_pred_proba(X_st, W)\n",
    "p"
   ]
  },
  {
   "cell_type": "markdown",
   "id": "86e612c9",
   "metadata": {},
   "source": [
    "#### 4. Создайте функцию calc_pred, возвращающую предсказанный класс (на вход подаются W, который уже посчитан функцией eval_model и X, на выходе - массив y_pred)."
   ]
  },
  {
   "cell_type": "code",
   "execution_count": 24,
   "id": "671ca5fd",
   "metadata": {},
   "outputs": [],
   "source": [
    "def calc_pred(X, W):\n",
    "    \n",
    "    m = X.shape[0]\n",
    "    \n",
    "    y_predicted = np.zeros(m)\n",
    "\n",
    "    A = np.squeeze(sigmoid(np.dot(X, W)))\n",
    "\n",
    "    # За порог отнесения к тому или иному классу примем вероятность 0.5\n",
    "    for i in range(A.shape[0]):\n",
    "        if (A[i] > 0.5): \n",
    "            y_predicted[i] = 1\n",
    "        elif (A[i] <= 0.5):\n",
    "            y_predicted[i] = 0\n",
    "\n",
    "    return y_predicted"
   ]
  },
  {
   "cell_type": "code",
   "execution_count": 25,
   "id": "59cc2465",
   "metadata": {},
   "outputs": [
    {
     "name": "stdout",
     "output_type": "stream",
     "text": [
      "y_pred  [0. 0. 1. 0. 1. 0. 1. 0. 0. 1.]\n",
      "y       [0. 0. 1. 0. 1. 0. 1. 0. 1. 1.]\n"
     ]
    }
   ],
   "source": [
    "y_preds = calc_pred(X_st, W)\n",
    "\n",
    "print(f'y_pred  {y_preds}')\n",
    "print(f'y       {y}')\n",
    "    "
   ]
  },
  {
   "cell_type": "markdown",
   "id": "1870747d",
   "metadata": {},
   "source": [
    "#### 5. *Реализуйте функции для подсчета Accuracy, матрицы ошибок, точности и полноты, а также F1 score."
   ]
  },
  {
   "cell_type": "code",
   "execution_count": 26,
   "id": "6ff63a03",
   "metadata": {},
   "outputs": [
    {
     "data": {
      "text/plain": [
       "array([[4., 0.],\n",
       "       [1., 5.]])"
      ]
     },
     "execution_count": 26,
     "metadata": {},
     "output_type": "execute_result"
    }
   ],
   "source": [
    "error_matrix = np.zeros((2, 2))\n",
    "for i in range(len(y)):\n",
    "    if y_preds[i] == 1 and y[i] != 0:\n",
    "        error_matrix[0][0] += 1\n",
    "    elif y_preds[i] == 1 and y[i] != 1:\n",
    "        error_matrix[0][1] += 1\n",
    "    elif y_preds[i] == 0 and y[i] != 1:\n",
    "        error_matrix[1][1] += 1\n",
    "    else:\n",
    "        error_matrix[1][0] += 1\n",
    "error_matrix"
   ]
  },
  {
   "cell_type": "code",
   "execution_count": 27,
   "id": "bf2127e7",
   "metadata": {},
   "outputs": [],
   "source": [
    "def accuracy(y_pred, y):\n",
    "    all = 0\n",
    "    for i in range(len(y)):\n",
    "        if y[i] == y_pred[i]:\n",
    "            all +=1\n",
    "    acc = all / len(y)\n",
    "    return acc\n"
   ]
  },
  {
   "cell_type": "code",
   "execution_count": 28,
   "id": "039496b6",
   "metadata": {},
   "outputs": [
    {
     "data": {
      "text/plain": [
       "0.9"
      ]
     },
     "execution_count": 28,
     "metadata": {},
     "output_type": "execute_result"
    }
   ],
   "source": [
    "accuracy(y_preds, y)"
   ]
  },
  {
   "cell_type": "code",
   "execution_count": 29,
   "id": "5964c495",
   "metadata": {},
   "outputs": [],
   "source": [
    "def precision(error_matrix):\n",
    "    pr = error_matrix[0][0] / (error_matrix[0][0] + error_matrix[0][1])\n",
    "    return pr"
   ]
  },
  {
   "cell_type": "code",
   "execution_count": 30,
   "id": "20ff2824",
   "metadata": {},
   "outputs": [
    {
     "data": {
      "text/plain": [
       "1.0"
      ]
     },
     "execution_count": 30,
     "metadata": {},
     "output_type": "execute_result"
    }
   ],
   "source": [
    "precision(error_matrix)"
   ]
  },
  {
   "cell_type": "code",
   "execution_count": 31,
   "id": "fa1d16c0",
   "metadata": {},
   "outputs": [],
   "source": [
    "def recall(error_matrix):\n",
    "    re = error_matrix[0][0] / (error_matrix[0][0] + error_matrix[1][0])\n",
    "    return re"
   ]
  },
  {
   "cell_type": "code",
   "execution_count": 32,
   "id": "bb1945d4",
   "metadata": {},
   "outputs": [
    {
     "data": {
      "text/plain": [
       "0.8"
      ]
     },
     "execution_count": 32,
     "metadata": {},
     "output_type": "execute_result"
    }
   ],
   "source": [
    "recall(error_matrix)"
   ]
  },
  {
   "cell_type": "code",
   "execution_count": 33,
   "id": "23f22c21",
   "metadata": {},
   "outputs": [],
   "source": [
    "def F_score(error_matrix):\n",
    "    f_s = round(2 * precision(error_matrix) * recall(error_matrix) / (recall(error_matrix) + precision(error_matrix)), 2)\n",
    "    return f_s"
   ]
  },
  {
   "cell_type": "code",
   "execution_count": 34,
   "id": "de2e1c0b",
   "metadata": {},
   "outputs": [
    {
     "data": {
      "text/plain": [
       "0.89"
      ]
     },
     "execution_count": 34,
     "metadata": {},
     "output_type": "execute_result"
    }
   ],
   "source": [
    "F_score(error_matrix)"
   ]
  },
  {
   "cell_type": "markdown",
   "id": "ded1c450",
   "metadata": {},
   "source": [
    "#### 6. Могла ли модель переобучиться? Почему?"
   ]
  },
  {
   "cell_type": "markdown",
   "id": "979a4f6a",
   "metadata": {},
   "source": [
    "Могла бы, если продолжить изменять eta и iterations. При ручном подборе параметров было замечено, что при дальнейшем изменении параметров и при уменьшении logloss веса начинали расти, что свидетельствовало о переобучении модели."
   ]
  }
 ],
 "metadata": {
  "kernelspec": {
   "display_name": "Python 3 (ipykernel)",
   "language": "python",
   "name": "python3"
  },
  "language_info": {
   "codemirror_mode": {
    "name": "ipython",
    "version": 3
   },
   "file_extension": ".py",
   "mimetype": "text/x-python",
   "name": "python",
   "nbconvert_exporter": "python",
   "pygments_lexer": "ipython3",
   "version": "3.9.1"
  }
 },
 "nbformat": 4,
 "nbformat_minor": 5
}
