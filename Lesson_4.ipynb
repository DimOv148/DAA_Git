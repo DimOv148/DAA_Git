{
 "cells": [
  {
   "cell_type": "markdown",
   "id": "922c4cd7",
   "metadata": {},
   "source": [
    "### Урок 4. Деревья решений"
   ]
  },
  {
   "cell_type": "markdown",
   "id": "fa18db37",
   "metadata": {},
   "source": [
    "#### 1. В коде из методички реализуйте один или несколько из критериев останова (количество листьев, количество используемых признаков, глубина дерева и т.д.)"
   ]
  },
  {
   "cell_type": "markdown",
   "id": "d0fd7de5",
   "metadata": {},
   "source": [
    "Код из методички:"
   ]
  },
  {
   "cell_type": "code",
   "execution_count": null,
   "id": "5f6ad9f7",
   "metadata": {},
   "outputs": [],
   "source": [
    "# Реализуем класс узла\n",
    "\n",
    "class Node:\n",
    "    \n",
    "    def __init__(self, index, t, true_branch, false_branch):\n",
    "        self.index = index  # индекс признака, по которому ведется сравнение с порогом в этом узле\n",
    "        self.t = t  # значение порога\n",
    "        self.true_branch = true_branch  # поддерево, удовлетворяющее условию в узле\n",
    "        self.false_branch = false_branch  # поддерево, не удовлетворяющее условию в узле"
   ]
  },
  {
   "cell_type": "code",
   "execution_count": null,
   "id": "15c83fec",
   "metadata": {},
   "outputs": [],
   "source": [
    "import time\n",
    "# Построение дерева с помощью рекурсивной функции\n",
    "\n",
    "def build_tree(data, labels):\n",
    "\n",
    "    gain, t, index = find_best_split(data, labels)\n",
    "\n",
    "    #  Базовый случай - прекращаем рекурсию, когда нет прироста в качества\n",
    "    if gain == 0:\n",
    "        return Leaf(data, labels)\n",
    "\n",
    "    true_data, false_data, true_labels, false_labels = split(data, labels, index, t)\n",
    "\n",
    "    # Рекурсивно строим два поддерева\n",
    "    true_branch = build_tree(true_data, true_labels)\n",
    "\n",
    "#     print(time.time(), true_branch)\n",
    "    false_branch = build_tree(false_data, false_labels)\n",
    "    \n",
    "#     print(time.time(), false_branch)\n",
    "    \n",
    "    # Возвращаем класс узла со всеми поддеревьями, то есть целого дерева\n",
    "    return Node(index, t, true_branch, false_branch)"
   ]
  },
  {
   "cell_type": "code",
   "execution_count": null,
   "id": "9752ee66",
   "metadata": {},
   "outputs": [],
   "source": [
    "Код с изменениями:"
   ]
  },
  {
   "cell_type": "code",
   "execution_count": null,
   "id": "8f0d4c46",
   "metadata": {},
   "outputs": [],
   "source": [
    "# Реализуем класс узла\n",
    "\n",
    "class Node:\n",
    "    \n",
    "    def __init__(self, index, t, true_branch, false_branch, level):\n",
    "        self.index = index  # индекс признака, по которому ведется сравнение с порогом в этом узле\n",
    "        self.t = t  # значение порога\n",
    "        self.true_branch = true_branch  # поддерево, удовлетворяющее условию в узле\n",
    "        self.false_branch = false_branch  # поддерево, не удовлетворяющее условию в узле\n",
    "        self.level = level"
   ]
  },
  {
   "cell_type": "code",
   "execution_count": null,
   "id": "7749ac40",
   "metadata": {},
   "outputs": [],
   "source": [
    "import time\n",
    "# Построение дерева с помощью рекурсивной функции\n",
    "\n",
    "def build_tree(data, label, level = 0, max_depth = 5):\n",
    "\n",
    "    gain, t, index = find_best_split(data, labels)\n",
    "\n",
    "    #  Базовый случай - прекращаем рекурсию, когда нет прироста в качества\n",
    "    if gain == 0:\n",
    "        return Leaf(data, labels)\n",
    "    \n",
    "    # Измененеия - прекращаем рекурсию, когда достигли заданной глубины дерева 5\n",
    "    if max_depth != 0 and level == max_depth:\n",
    "        return Leaf(data, labels)\n",
    "\n",
    "    true_data, false_data, true_labels, false_labels = split(data, labels, index, t)\n",
    "\n",
    "    # Рекурсивно строим два поддерева\n",
    "    level += 1\n",
    "    true_branch = build_tree(true_data, true_labels, level, max_depth)\n",
    "\n",
    "#     print(time.time(), true_branch)\n",
    "    false_branch = build_tree(false_data, false_labels, level, max_depth)\n",
    "    \n",
    "#     print(time.time(), false_branch)\n",
    "    \n",
    "    # Возвращаем класс узла со всеми поддеревьями, то есть целого дерева\n",
    "    return Node(index, t, true_branch, false_branch, level)"
   ]
  },
  {
   "cell_type": "markdown",
   "id": "0ab6210c",
   "metadata": {},
   "source": [
    "#### 2. *Реализуйте дерево для задачи регрессии. Возьмите за основу дерево, реализованное в методичке, заменив механизм предсказания в листе на взятие среднего значения по выборке, и критерий Джини на дисперсию значений."
   ]
  },
  {
   "cell_type": "markdown",
   "id": "caf1c7d6",
   "metadata": {},
   "source": [
    "Предсказание реализовано в функции predict:"
   ]
  },
  {
   "cell_type": "code",
   "execution_count": null,
   "id": "7957aaea",
   "metadata": {},
   "outputs": [],
   "source": [
    "# И класс терминального узла (листа)\n",
    "\n",
    "class Leaf:\n",
    "    \n",
    "    def __init__(self, data, labels):\n",
    "        self.data = data\n",
    "        self.labels = labels\n",
    "        self.prediction = self.predict()\n",
    "        \n",
    "    def predict(self):\n",
    "        # подсчет количества объектов разных классов\n",
    "        classes = {}  # сформируем словарь \"класс: количество объектов\"\n",
    "        for label in self.labels:\n",
    "            if label not in classes:\n",
    "                classes[label] = 0\n",
    "            classes[label] += 1\n",
    "            \n",
    "        # найдем класс, количество объектов которого будет максимальным в этом листе и вернем его    \n",
    "        prediction = max(classes, key=classes.get)\n",
    "        return prediction        "
   ]
  },
  {
   "cell_type": "markdown",
   "id": "b7101196",
   "metadata": {},
   "source": [
    "Критерий Джини рассчитывается в функции gini:"
   ]
  },
  {
   "cell_type": "code",
   "execution_count": null,
   "id": "b8e690c8",
   "metadata": {},
   "outputs": [],
   "source": [
    "# Расчет критерия Джини\n",
    "\n",
    "def gini(labels):\n",
    "    #  подсчет количества объектов разных классов\n",
    "    classes = {}\n",
    "    for label in labels:\n",
    "        if label not in classes:\n",
    "            classes[label] = 0\n",
    "        classes[label] += 1\n",
    "    \n",
    "    #  расчет критерия\n",
    "    impurity = 1\n",
    "    for label in classes:\n",
    "        p = classes[label] / len(labels)\n",
    "        impurity -= p ** 2\n",
    "        \n",
    "    return impurity"
   ]
  },
  {
   "cell_type": "markdown",
   "id": "5a7111cf",
   "metadata": {},
   "source": [
    "Внесем изменения в фунцию predict:"
   ]
  },
  {
   "cell_type": "code",
   "execution_count": null,
   "id": "beafe3d8",
   "metadata": {},
   "outputs": [],
   "source": [
    "# И класс терминального узла (листа)\n",
    "\n",
    "class Leaf:\n",
    "    \n",
    "    def __init__(self, data, labels):\n",
    "        self.data = data\n",
    "        self.labels = labels\n",
    "        self.prediction = self.predict()\n",
    "        \n",
    "    def predict(self):\n",
    "#         # подсчет количества объектов разных классов\n",
    "#         classes = {}  # сформируем словарь \"класс: количество объектов\"\n",
    "#         for label in self.labels:\n",
    "#             if label not in classes:\n",
    "#                 classes[label] = 0\n",
    "#             classes[label] += 1\n",
    "            \n",
    "#         # найдем класс, количество объектов которого будет максимальным в этом листе и вернем его    \n",
    "#         prediction = max(classes, key=classes.get)\n",
    "\n",
    "        prediction = np.mean(self.labels) #среднее значение по выборке\n",
    "        return prediction        "
   ]
  },
  {
   "cell_type": "code",
   "execution_count": null,
   "id": "7e50e18e",
   "metadata": {},
   "outputs": [],
   "source": [
    "и в функцию gini (надо будет переименовать)"
   ]
  },
  {
   "cell_type": "code",
   "execution_count": null,
   "id": "99df3248",
   "metadata": {},
   "outputs": [],
   "source": [
    "# Расчет критерия Джини\n",
    "\n",
    "def gini(labels):\n",
    "#     #  подсчет количества объектов разных классов\n",
    "#     classes = {}\n",
    "#     for label in labels:\n",
    "#         if label not in classes:\n",
    "#             classes[label] = 0\n",
    "#         classes[label] += 1\n",
    "    \n",
    "#     #  расчет критерия\n",
    "#     impurity = 1\n",
    "#     for label in classes:\n",
    "#         p = classes[label] / len(labels)\n",
    "#         impurity -= p ** 2\n",
    "    impurity = np.var(labels)     \n",
    "    return impurity"
   ]
  }
 ],
 "metadata": {
  "kernelspec": {
   "display_name": "Python 3 (ipykernel)",
   "language": "python",
   "name": "python3"
  },
  "language_info": {
   "codemirror_mode": {
    "name": "ipython",
    "version": 3
   },
   "file_extension": ".py",
   "mimetype": "text/x-python",
   "name": "python",
   "nbconvert_exporter": "python",
   "pygments_lexer": "ipython3",
   "version": "3.9.1"
  }
 },
 "nbformat": 4,
 "nbformat_minor": 5
}
